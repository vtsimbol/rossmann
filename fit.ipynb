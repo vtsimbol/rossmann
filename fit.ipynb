{
 "cells": [
  {
   "cell_type": "markdown",
   "metadata": {},
   "source": [
    "# Get train and validation datasets to local test\n",
    "Из-за ограничения в 2 загрузки в день решения на kaggle сначала гоняю алгоритмы на собственных тестах\n"
   ]
  },
  {
   "cell_type": "code",
   "execution_count": 23,
   "metadata": {},
   "outputs": [],
   "source": [
    "import pandas as pd\n",
    "import numpy as np\n",
    "import sklearn\n",
    "from sklearn import preprocessing\n",
    "from sklearn.preprocessing import Normalizer\n",
    "from sklearn.linear_model import SGDRegressor\n",
    "from sklearn.cluster import KMeans\n",
    "import xgboost\n",
    "import matplotlib.pyplot as plt\n",
    "\n",
    "\n",
    "source_dataset_path = './train/train_dataset.csv'\n",
    "pre_train_path = './fit/pre_train.csv'\n",
    "pre_test_path = './fit/pre_test.csv'\n",
    "\n",
    "gbm_analysis_path = './models/gbm_analysis.bin'\n",
    "gbm_final_path = './models/gbm_final.bin'\n",
    "\n",
    "\n",
    "train_df = pd.read_csv(source_dataset_path, sep=',', index_col=False)"
   ]
  },
  {
   "cell_type": "markdown",
   "metadata": {},
   "source": [
    "Получаем выборки: тусуем, делим в соотношении 90/10 - данных слишком мало"
   ]
  },
  {
   "cell_type": "code",
   "execution_count": 3,
   "metadata": {},
   "outputs": [],
   "source": [
    "ratio = 0.9\n",
    "\n",
    "def get_pre_train_and_test_datasets(train_dataset):\n",
    "    train_df = train_dataset.copy()\n",
    "    # Нормализация числовых полей\n",
    "    train_df['StateHolidayDays'] = sklearn.preprocessing.normalize(train_df['StateHolidayDays'].values.reshape(-1, 1), axis=0)\n",
    "    train_df['SchoolHolidayDays'] = sklearn.preprocessing.normalize(train_df['SchoolHolidayDays'].values.reshape(-1, 1), axis=0)\n",
    "    train_df['Sales'] = sklearn.preprocessing.normalize(train_df['Sales'].values.reshape(-1, 1), axis=0)\n",
    "    train_df['PromoDays'] = sklearn.preprocessing.normalize(train_df['PromoDays'].values.reshape(-1, 1), axis=0)\n",
    "    train_df['Promo2DaysToNext'] = sklearn.preprocessing.normalize(train_df['Promo2DaysToNext'].values.reshape(-1, 1), axis=0)\n",
    "    train_df['Promo2AllDays'] = sklearn.preprocessing.normalize(train_df['Promo2AllDays'].values.reshape(-1, 1), axis=0)\n",
    "    train_df['Promo2Days'] = sklearn.preprocessing.normalize(train_df['Promo2Days'].values.reshape(-1, 1), axis=0)\n",
    "    train_df['MeanByDay'] = sklearn.preprocessing.normalize(train_df['MeanByDay'].values.reshape(-1, 1), axis=0)\n",
    "    train_df['Mean'] = sklearn.preprocessing.normalize(train_df['Mean'].values.reshape(-1, 1), axis=0)\n",
    "    train_df['DayOfWeek'] = sklearn.preprocessing.normalize(train_df['DayOfWeek'].values.reshape(-1, 1), axis=0)\n",
    "    train_df['DayOfMonth'] = sklearn.preprocessing.normalize(train_df['DayOfMonth'].values.reshape(-1, 1), axis=0)\n",
    "    train_df['Customers'] = sklearn.preprocessing.normalize(train_df['Customers'].values.reshape(-1, 1), axis=0)\n",
    "    train_df['CompetitionDistance'] = sklearn.preprocessing.normalize(train_df['CompetitionDistance'].values.reshape(-1, 1), axis=0)\n",
    "    train_df['CompetitionDays'] = sklearn.preprocessing.normalize(train_df['CompetitionDays'].values.reshape(-1, 1), axis=0)\n",
    "    # Работа с категориальными признаками\n",
    "    objects = train_df.select_dtypes(include=[object])\n",
    "    label_encoder = preprocessing.LabelEncoder()\n",
    "    transf = objects.apply(label_encoder.fit_transform)\n",
    "    enc = preprocessing.OneHotEncoder(categories='auto')\n",
    "    enc.fit(transf)\n",
    "    labels = enc.transform(transf).toarray()\n",
    "    # Заменяем/добавляем столбцы\n",
    "    del train_df['Assortment']\n",
    "    del train_df['StoreType']\n",
    "    del train_df['StateHoliday']\n",
    "    #train_df.drop(columns=['Assortment', 'StoreType', 'StateHoliday'], axis=1)\n",
    "    for i in range(0, labels.shape[1]):\n",
    "        train_df[f'x{i}'] = pd.Series(labels[:,i])\n",
    "    # Перемешиваем\n",
    "    indexes = np.arange(0, train_df.shape[0])\n",
    "    np.random.shuffle(indexes)\n",
    "    pos = int(train_df.shape[0] * ratio)\n",
    "    train_indexes = indexes[:pos]\n",
    "    test_indexes = indexes[pos:]\n",
    "    train = train_df.loc[train_indexes]\n",
    "    test = train_df.loc[test_indexes]\n",
    "    return train, test\n",
    "\n",
    "train, test = get_pre_train_and_test_datasets(train_df)\n",
    "train.to_csv(pre_train_path, sep=',', index=False)\n",
    "test.to_csv(pre_test_path, sep=',', index=False)"
   ]
  },
  {
   "cell_type": "markdown",
   "metadata": {},
   "source": [
    "# Metrics\n",
    "Реализация собственного RMSPE для локальных тестов"
   ]
  },
  {
   "cell_type": "code",
   "execution_count": 4,
   "metadata": {},
   "outputs": [],
   "source": [
    "def metrics(source, predict):\n",
    "    count = np.min([source.shape[0], predict.shape[0]])\n",
    "    mse = [(source[x] - predict[x]) ** 2 for x in range(0, count)]\n",
    "    mse = np.sum(mse) / count\n",
    "    return np.sqrt(mse)"
   ]
  },
  {
   "cell_type": "markdown",
   "metadata": {},
   "source": [
    "# Fit Engineering\n",
    "Обучаем линейную модель, должна дать прирост"
   ]
  },
  {
   "cell_type": "code",
   "execution_count": 5,
   "metadata": {},
   "outputs": [],
   "source": [
    "def fit_linear_regression(train, test):\n",
    "    y = train['Sales']\n",
    "    X_train = train.copy()\n",
    "    X_test = test.copy()\n",
    "    del X_train['Sales']\n",
    "    del X_test['Sales']\n",
    "    sgd = SGDRegressor(loss='huber', max_iter=1000)\n",
    "    sgd.fit(X_train.values, y.values)\n",
    "    return sgd.predict(X_train), sgd.predict(X_test)\n",
    "    \n",
    "lr_train, lr_test = fit_linear_regression(train, test)"
   ]
  },
  {
   "cell_type": "markdown",
   "metadata": {},
   "source": [
    "Добавляем полученные данные к основным датасетам"
   ]
  },
  {
   "cell_type": "code",
   "execution_count": 6,
   "metadata": {},
   "outputs": [],
   "source": [
    "train['x10'] = pd.Series(lr_train)\n",
    "test['x10'] = pd.Series(lr_test)"
   ]
  },
  {
   "cell_type": "markdown",
   "metadata": {},
   "source": [
    "Выявляем значимые признаки, проходим по четверти от всего датасета, все сразу прогнать не позволяет железо"
   ]
  },
  {
   "cell_type": "code",
   "execution_count": 14,
   "metadata": {
    "scrolled": true
   },
   "outputs": [],
   "source": [
    "def get_feature_analyze_gb_model(train):\n",
    "    y = train['Sales']\n",
    "    X_train = train.copy()\n",
    "    del X_train['Sales']\n",
    "    #gbm = xgb.XGBClassifier(silent=False, nthread=4, max_depth=10, n_estimators=800, subsample=0.5, learning_rate=0.03, seed=1337)\n",
    "    #gbm = xgb.XGBClassifier(silent=False, nthread=2, max_depth=3, n_estimators=100, subsample=1, learning_rate=0.2, seed=1337)\n",
    "    gbm = xgboost.XGBClassifier(tree_method='gpu_hist', predictor='gpu_predictor', max_depth=2, n_estimators=100, subsample=1, learning_rate=0.2, seed=300)\n",
    "    gbm.fit(X_train.values[:10000], y.values[:10000])\n",
    "    return gbm\n",
    "    \n",
    "# gbm = feature_visualization(train)\n",
    "# gbm.save_model(gbm_analysis_path)"
   ]
  },
  {
   "cell_type": "markdown",
   "metadata": {},
   "source": [
    "Специально сохранил выше полученную модель, дабы каждый раз ее не прогонять"
   ]
  },
  {
   "cell_type": "code",
   "execution_count": 24,
   "metadata": {},
   "outputs": [],
   "source": [
    "bst = xgboost.Booster()\n",
    "bst.load_model(gbm_analysis_path)\n",
    "imps = bst.get_fscore()"
   ]
  },
  {
   "cell_type": "markdown",
   "metadata": {},
   "source": [
    "Отображаем полученную гистограмму, определяем признаки, имеющие наибольший вес"
   ]
  },
  {
   "cell_type": "code",
   "execution_count": 25,
   "metadata": {},
   "outputs": [
    {
     "data": {
      "image/png": "[encoded data removed]",
      "text/plain": [
       "<Figure size 1440x720 with 1 Axes>"
      ]
     },
     "metadata": {
      "needs_background": "light"
     },
     "output_type": "display_data"
    }
   ],
   "source": [
    "def feature_visualization(dict_from_gbm):\n",
    "    plt.figure(figsize=(20, 10))\n",
    "    plt.bar(imps.keys(), imps.values(), color='b')\n",
    "    plt.show()\n",
    "    \n",
    "feature_visualization(imps)"
   ]
  },
  {
   "cell_type": "markdown",
   "metadata": {},
   "source": [
    "Отбрасываем все признаки после f5, обучаем финальную модель, не делаю ансамбль из-за сжатых сроков по времени"
   ]
  },
  {
   "cell_type": "markdown",
   "metadata": {},
   "source": [
    "# Fit\n",
    "Используем все тот же буст"
   ]
  },
  {
   "cell_type": "code",
   "execution_count": null,
   "metadata": {},
   "outputs": [],
   "source": [
    "fit_columns = [30, 0, 17, 12, 19, 1, 6, 4, 2, 5]\n",
    "\n",
    "def fit"
   ]
  }
 ],
 "metadata": {
  "kernelspec": {
   "display_name": "Python 3",
   "language": "python",
   "name": "python3"
  },
  "language_info": {
   "codemirror_mode": {
    "name": "ipython",
    "version": 3
   },
   "file_extension": ".py",
   "mimetype": "text/x-python",
   "name": "python",
   "nbconvert_exporter": "python",
   "pygments_lexer": "ipython3",
   "version": "3.7.3"
  }
 },
 "nbformat": 4,
 "nbformat_minor": 2
}
