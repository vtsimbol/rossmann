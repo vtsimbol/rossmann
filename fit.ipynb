{
 "cells": [
  {
   "cell_type": "markdown",
   "metadata": {},
   "source": [
    "# Get train and validation datasets to local test\n",
    "Из-за ограничения в 2 загрузки в день решения на kaggle сначала гоняю алгоритмы на собственных тестах\n"
   ]
  },
  {
   "cell_type": "code",
   "execution_count": 19,
   "metadata": {},
   "outputs": [],
   "source": [
    "import pandas as pd\n",
    "import numpy as np\n",
    "\n",
    "source_dataset_path = './train/train_dataset.csv'\n",
    "train_path = './fit/train.csv'\n",
    "validation_path = './fit/validation.csv'\n",
    "\n",
    "train_df = pd.read_csv(source_dataset_path, sep=',')"
   ]
  },
  {
   "cell_type": "markdown",
   "metadata": {},
   "source": [
    "Получаем выборки: тусуем, делим в соотношении 90/10 - данных слишком мало"
   ]
  },
  {
   "cell_type": "code",
   "execution_count": 20,
   "metadata": {},
   "outputs": [],
   "source": [
    "ratio = 0.9\n",
    "\n",
    "def get_train_and_validation_datasets(train_df):\n",
    "    indexes = np.arange(0, train_df.shape[0])\n",
    "    np.random.shuffle(indexes)\n",
    "    pos = int(train_df.shape[0] * ratio)\n",
    "    train_indexes = indexes[:pos]\n",
    "    validation_indexes = indexes[pos:]\n",
    "    train = train_df.loc[train_indexes]\n",
    "    validation = train_df.loc[validation_indexes]\n",
    "    return train, validation\n",
    "\n",
    "train, validation = get_train_and_validation_datasets(train_df)\n",
    "train.to_csv(train_path, sep=',')\n",
    "validation.to_csv(validation_path, sep=',')"
   ]
  },
  {
   "cell_type": "code",
   "execution_count": null,
   "metadata": {},
   "outputs": [],
   "source": []
  }
 ],
 "metadata": {
  "kernelspec": {
   "display_name": "Python 3",
   "language": "python",
   "name": "python3"
  },
  "language_info": {
   "codemirror_mode": {
    "name": "ipython",
    "version": 3
   },
   "file_extension": ".py",
   "mimetype": "text/x-python",
   "name": "python",
   "nbconvert_exporter": "python",
   "pygments_lexer": "ipython3",
   "version": "3.7.3"
  }
 },
 "nbformat": 4,
 "nbformat_minor": 2
}
