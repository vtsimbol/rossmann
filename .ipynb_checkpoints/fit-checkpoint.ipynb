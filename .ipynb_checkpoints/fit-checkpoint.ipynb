{
 "cells": [
  {
   "cell_type": "code",
   "execution_count": 3,
   "metadata": {},
   "outputs": [],
   "source": [
    "import sys\n",
    "import pandas as pd\n",
    "import numpy as np\n",
    "import datetime\n",
    "import math\n",
    "import operator\n",
    "import sklearn\n",
    "from sklearn import preprocessing\n",
    "from sklearn.preprocessing import MinMaxScaler, LabelEncoder, OneHotEncoder\n",
    "from sklearn.model_selection import train_test_split\n",
    "from sklearn.externals import joblib\n",
    "import xgboost\n",
    "import matplotlib.pyplot as plt\n",
    "\n",
    "\n",
    "train_path = './data/train_v2.csv'\n",
    "test_path = './data/test_v2.csv'\n",
    "store_path = './data/store.csv'\n",
    "\n",
    "dataset_path = './train/train_dataset.csv'\n",
    "final_train_data = './train/train_dataset.csv'\n",
    "\n",
    "model_path = './model/model.bin'\n",
    "save_path = './submission/submission.csv'\n",
    "\n",
    "encoder_columns = [\n",
    "                    'Assortment',\n",
    "                    'StateHoliday',\n",
    "                    'StoreType',\n",
    "                    'Store'\n",
    "                ]\n",
    "scaler_columns = [\n",
    "                    'StateHolidayDays',\n",
    "                    'SchoolHolidayDays',\n",
    "                    'PromoDays',\n",
    "                    'Promo2DaysToNext',\n",
    "                    'Promo2AllDays',\n",
    "                    'Promo2Days',\n",
    "                    'DayOfWeek',\n",
    "                    'DayOfMonth',\n",
    "                    'Customers',\n",
    "                    'CompetitionDistance',\n",
    "                    'CompetitionDays',\n",
    "                    'Sales'\n",
    "                ]"
   ]
  },
  {
   "cell_type": "markdown",
   "metadata": {},
   "source": [
    "# Загрузка исходных данных\n"
   ]
  },
  {
   "cell_type": "code",
   "execution_count": 4,
   "metadata": {},
   "outputs": [],
   "source": [
    "train_df = pd.read_csv(train_path, sep=',', index_col=False)\n",
    "store_df = pd.read_csv(store_path, sep=',', index_col=False)"
   ]
  },
  {
   "cell_type": "markdown",
   "metadata": {},
   "source": [
    "# Подготовка данных, расширение\n",
    "Подготавливаем данные: объединяем исходные данные, дополняем собственными признаками"
   ]
  },
  {
   "cell_type": "code",
   "execution_count": 5,
   "metadata": {},
   "outputs": [],
   "source": [
    "def monthToNum(month):\n",
    "    return{\n",
    "            'Jan' : 1,\n",
    "            'Feb' : 2,\n",
    "            'Mar' : 3,\n",
    "            'Apr' : 4,\n",
    "            'May' : 5,\n",
    "            'Jun' : 6,\n",
    "            'Jul' : 7,\n",
    "            'Aug' : 8,\n",
    "            'Sept' : 9, \n",
    "            'Oct' : 10,\n",
    "            'Nov' : 11,\n",
    "            'Dec' : 12\n",
    "    }[month]\n",
    "\n",
    "def prepare_data(train_df, store_df):\n",
    "    train = []\n",
    "    for i in range(1, 1116):\n",
    "        day_after_close = 0\n",
    "        promo_days = 0\n",
    "        stateholiday_days = 0\n",
    "        schoolholiday_days = 0\n",
    "        data = train_df.loc[train_df['Store'] == i]\n",
    "        info = store_df.loc[store_df['Store'] == i]       \n",
    "        # Разбираемся с акциями Promo2 по конкретному магазину\n",
    "        promo2_is_enabled = info.iloc[0]['Promo2'];\n",
    "        promo2_months = []\n",
    "        promo2_datetime = None\n",
    "        if promo2_is_enabled == 1:\n",
    "            buf = info.iloc[0]['PromoInterval'].split(',')\n",
    "            promo2_months = np.array([monthToNum(x) for x in buf])\n",
    "            promo2_datetime = datetime.datetime.strptime(f\"{int(info.iloc[0]['Promo2SinceYear'])}-W{int(info.iloc[0]['Promo2SinceWeek'])}\" + '-1', \"%Y-W%W-%w\")\n",
    "        # Конкурент\n",
    "        competition_datetime_enabled = 0\n",
    "        if not math.isnan(info.iloc[0]['CompetitionOpenSinceYear']) or not math.isnan(info.iloc[0]['CompetitionOpenSinceMonth']):\n",
    "            competition_datetime_enabled = 1\n",
    "            competition_datetime = datetime.datetime(int(info.iloc[0]['CompetitionOpenSinceYear']), int(info.iloc[0]['CompetitionOpenSinceMonth']), 1)\n",
    "        # Перебираем данные\n",
    "        for j in reversed(range(0, data.shape[0])):\n",
    "            # Текущая дата как datetime\n",
    "            current_datetime = datetime.datetime.strptime(data.iloc[j]['Date'], \"%Y-%M-%d\")\n",
    "            day_of_month = current_datetime.day\n",
    "            store_is_open = data.iloc[j]['Open']\n",
    "            if store_is_open == 1:\n",
    "                # Праздники\n",
    "                if data.iloc[j]['StateHoliday'] != '0':\n",
    "                    stateholiday_days += 1\n",
    "                else:\n",
    "                    stateholiday_days = 0  \n",
    "                # Каникулы\n",
    "                if data.iloc[j]['SchoolHoliday'] != \"0\":\n",
    "                    schoolholiday_days += 1\n",
    "                else:\n",
    "                    schoolholiday_days = 0\n",
    "                # Все по Promo\n",
    "                if data.iloc[j]['Promo'] == 1:\n",
    "                    promo_days += 1\n",
    "                else:\n",
    "                    promo_days = 0\n",
    "                # Все по Promo2\n",
    "                promo2_is_active = 0\n",
    "                promo2_days = 0           \n",
    "                promo2_days_to_next = 0\n",
    "                promo2_all_days = 0\n",
    "                if promo2_is_enabled == 1:\n",
    "                    promo2_all_days = (current_datetime - promo2_datetime).days\n",
    "                    if current_datetime.month in promo2_months:\n",
    "                        promo2_is_active = 1\n",
    "                        promo2_days = day_of_month\n",
    "                    else:\n",
    "                        # Определяем ближайший месяц, когда начнется Promo2\n",
    "                        promo2_starts = np.array([datetime.datetime(current_datetime.year, x, 1) for x in promo2_months])\n",
    "                        buf = []\n",
    "                        for date in promo2_starts:\n",
    "                            if date > current_datetime:\n",
    "                                buf.append((date - current_datetime).days)\n",
    "                        days_to_next = np.min(buf)\n",
    "                        if days_to_next < 15:\n",
    "                            promo2_days_to_next = days_to_next\n",
    "                # Количество дней со дня открытия конкурента\n",
    "                competition_days = 0\n",
    "                competition_distance = 0\n",
    "                if competition_datetime_enabled == 1:\n",
    "                    if current_datetime > competition_datetime:\n",
    "                        competition_days = (current_datetime - competition_datetime).days \n",
    "                        competition_distance = info.iloc[0]['CompetitionDistance']\n",
    "                # Все остальные данные \"как есть\"\n",
    "                train.append(\n",
    "                {\n",
    "                    \"Store\": i,\n",
    "                    \"DayOfWeek\": data.iloc[j]['DayOfWeek'],\n",
    "                    \"DayOfMonth\": day_of_month,\n",
    "                    \"Open\": store_is_open,\n",
    "                    \"Sales\": data.iloc[j]['Sales'],\n",
    "                    \"Customers\": data.iloc[j]['Customers'],\n",
    "                    \"Promo\": data.iloc[j]['Promo'],\n",
    "                    \"PromoDays\": promo_days,\n",
    "                    \"StateHoliday\": str(data.iloc[j]['StateHoliday']),\n",
    "                    \"StateHolidayDays\": stateholiday_days,\n",
    "                    \"SchoolHoliday\": str(data.iloc[j]['SchoolHoliday']),\n",
    "                    \"SchoolHolidayDays\": schoolholiday_days,\n",
    "                    \"StoreType\": str(info.iloc[0]['StoreType']),\n",
    "                    \"Assortment\": str(info.iloc[0]['Assortment']),\n",
    "                    \"CompetitionDistance\": competition_distance,\n",
    "                    \"CompetitionDays\": competition_days,\n",
    "                    \"Promo2\": promo2_is_enabled,\n",
    "                    \"Promo2Active\": promo2_is_active,\n",
    "                    \"Promo2Days\": promo2_days,\n",
    "                    \"Promo2DaysToNext\": promo2_days_to_next,\n",
    "                    \"Promo2AllDays\": promo2_all_days,\n",
    "                    \"DayAfterClose\": day_after_close\n",
    "                })\n",
    "                day_after_close = 0\n",
    "            else:\n",
    "                day_after_close = 1\n",
    "    return pd.DataFrame.from_dict(train)\n",
    "\n",
    "df = prepare_data(train_df, store_df)"
   ]
  },
  {
   "cell_type": "markdown",
   "metadata": {},
   "source": [
    "# Собираем выборки для обучения и валидации\n"
   ]
  },
  {
   "cell_type": "markdown",
   "metadata": {},
   "source": [
    "Создаем объекты MinMaxScaler для числовых признаков, OneHotEncoding - для категориальных признаков"
   ]
  },
  {
   "cell_type": "code",
   "execution_count": 6,
   "metadata": {},
   "outputs": [],
   "source": [
    "def get_minmaxscaler(df, columns):\n",
    "    scalers = []\n",
    "    for column_name in columns:\n",
    "        scaler = MinMaxScaler().fit(df[column_name].values.reshape(-1, 1))\n",
    "        scalers.append((column_name, scaler))\n",
    "    return scalers\n",
    "\n",
    "def get_encoder(df, columns):\n",
    "    encoders = []\n",
    "    for column_name in columns:\n",
    "        if column_name == 'Store':\n",
    "            objects = [x for x in range(1, 1116)]\n",
    "        else:\n",
    "            objects = ['a', 'b', 'c', 'd', '0']\n",
    "        label_enc = LabelEncoder()\n",
    "        label_enc.fit(objects)\n",
    "        labels = label_enc.transform(objects).reshape(-1, 1)\n",
    "        onehot_enc = OneHotEncoder(sparse=False, categories='auto')\n",
    "        onehot_enc.fit(labels)\n",
    "        encoders.append((column_name, label_enc, onehot_enc))\n",
    "    return encoders\n",
    "        \n",
    "def get_processing_objects(df, scaler_columns, encoder_columns):\n",
    "    scalers = get_minmaxscaler(df, scaler_columns)\n",
    "    encoders = get_encoder(df, encoder_columns)\n",
    "    return scalers, encoders\n",
    "\n",
    "scalers, encoders = get_processing_objects(df, scaler_columns, encoder_columns)"
   ]
  },
  {
   "cell_type": "markdown",
   "metadata": {},
   "source": [
    "Получаем для дальнейшей работы обучающую и валидационную выборки"
   ]
  },
  {
   "cell_type": "code",
   "execution_count": 22,
   "metadata": {},
   "outputs": [],
   "source": [
    "def visualisation(x, y, title):\n",
    "    plt.figure(figsize=(50, 20))\n",
    "    plt.plot(x, y, color='b')\n",
    "    plt.title(title)\n",
    "    plt.show()\n",
    "\n",
    "def get_train_and_test_datasets(df, scalers, scaler_columns, encoders, encoder_columns, split_train_test=True, ratio=0.9):\n",
    "    x = pd.DataFrame()\n",
    "    index = 0\n",
    "    # Булевые (0/1) признаки - добавляем \"как есть\"\n",
    "    columns = list(df.columns.values)\n",
    "    for del_column in (scaler_columns + encoder_columns):\n",
    "        columns.remove(del_column)\n",
    "    for add_column in columns:\n",
    "        # print(f'{add_column} - {index}')\n",
    "        x[f'f{index}'] = df[add_column]\n",
    "        index += 1\n",
    "    # Категориальные признаки\n",
    "    for enc in encoders:\n",
    "        cat = enc[1].transform(df[enc[0]].values)\n",
    "        labels = enc[2].transform(cat.reshape((-1, 1)))\n",
    "        for i in range(0, labels.shape[1]):\n",
    "            # print(f'{enc[0]} - {index}')\n",
    "            x[f'f{index}'] = pd.Series(labels[:,i])\n",
    "            index += 1\n",
    "     # Числовые признаки\n",
    "    for s in scalers:\n",
    "        # print(f'{s[0]} - {index}')\n",
    "        x[f'f{index}'] = s[1].transform([df[s[0]].values])[0]\n",
    "        index += 1\n",
    "    X = x.iloc[:, :-1]\n",
    "    Y = x.iloc[:, -1]\n",
    "    # Крайним оставляем таргет - 'Sales' - дабы после перехода с df на np.array не менять индексацию\n",
    "    if split_train_test == True:\n",
    "        # Делим на тестовую и обучающую выборки - Sales имеет индекс 2\n",
    "        x_train, x_test, y_train, y_test = train_test_split(X, Y, test_size=1-ratio, random_state=123)\n",
    "        return x_train, x_test, y_train, y_test\n",
    "    else:\n",
    "        return X, Y\n",
    "\n",
    "x_train, x_test, y_train, y_test = get_train_and_test_datasets(df, scalers, scaler_columns, encoders, encoder_columns)"
   ]
  },
  {
   "cell_type": "markdown",
   "metadata": {},
   "source": [
    "Выявляем значимые признаки"
   ]
  },
  {
   "cell_type": "code",
   "execution_count": 10,
   "metadata": {
    "scrolled": true
   },
   "outputs": [
    {
     "data": {
      "image/png": "[encoded data removed]",
      "text/plain": [
       "<Figure size 3600x1080 with 1 Axes>"
      ]
     },
     "metadata": {
      "needs_background": "light"
     },
     "output_type": "display_data"
    },
    {
     "name": "stdout",
     "output_type": "stream",
     "text": [
      "['f1144', 'f2', 'f1137', 'f1140', 'f1145', 'f1141', 'f1142', 'f5', 'f1143', 'f1138', 'f1146', 'f0']\n"
     ]
    }
   ],
   "source": [
    "def get_feature_analyze_use_gb_model(x_train, y_train):\n",
    "    gbm = xgboost.XGBRegressor(tree_method='gpu_hist', predictor='gpu_predictor', max_depth=8, n_estimators=1000, subsample=1, learning_rate=0.05, seed=300)\n",
    "    gbm.fit(x_train.values, y_train.values)\n",
    "    imps = gbm.get_booster().get_fscore()\n",
    "    _max = max(imps.items(), key=lambda k: k[1]) \n",
    "    _min = min(imps.items(), key=lambda k: k[1])\n",
    "    # Берем признаки, у которых fscore не менее 5% от min...max вклада всех признаков\n",
    "    threshold = (_max[1] - _min[1]) * 0.05 + _min[1]\n",
    "    features = {k: v for (k, v) in imps.items() if v > threshold}\n",
    "    # Отрисовываем гистограмму\n",
    "    plt.figure(figsize=(50, 15))\n",
    "    plt.bar(features.keys(), features.values(), color='b')\n",
    "    plt.show()\n",
    "    return list(features.keys())\n",
    "\n",
    "fit_column = get_feature_analyze_use_gb_model(x_train, y_train)\n",
    "print(fit_column)"
   ]
  },
  {
   "cell_type": "markdown",
   "metadata": {},
   "source": [
    "# Метрики"
   ]
  },
  {
   "cell_type": "code",
   "execution_count": 11,
   "metadata": {},
   "outputs": [],
   "source": [
    "def rmspe(target, predict):\n",
    "    return np.sqrt((((target - predict) / target) ** 2).mean())"
   ]
  },
  {
   "cell_type": "markdown",
   "metadata": {},
   "source": [
    "# Подбор параметров обучения\n",
    "Подбираем параметры модели, фиксируем learning_rate на уровне 0.003, максимальную глубину ограничиваем на уровне 10ти, подбираем estimators, зависимость прямая, чем ниже learning_rate -> тем больше должен быть estimators"
   ]
  },
  {
   "cell_type": "code",
   "execution_count": 12,
   "metadata": {},
   "outputs": [],
   "source": [
    "def fit(x_train, y_train, x_test, y_test, fit_column):\n",
    "    errors = []\n",
    "    scaler = scalers[-1]\n",
    "    y1 = scaler[1].inverse_transform([y_test.values])[0]\n",
    "    for e in range(1000, 5001, 1000):\n",
    "        gbm = xgboost.XGBRegressor(tree_method='gpu_hist', predictor='gpu_predictor', max_depth=10, n_estimators=e, subsample=1, learning_rate=0.003, seed=700)\n",
    "        gbm.fit(x_train[fit_column].values, y_train.values)\n",
    "        # Тест: получаем предикт, проводим денормализацию, считаем ошибку\n",
    "        y_pred = gbm.predict(x_test[fit_column].values)\n",
    "        y2 = scaler[1].inverse_transform(y_pred.reshape(1, -1))[0]\n",
    "        errors.append({'rmspe': rmspe(y1, y2), 'estimators': e})\n",
    "    return pd.DataFrame.from_dict(errors)\n",
    "\n",
    "errors_stat = fit(x_train, y_train, x_test, y_test, fit_column)"
   ]
  },
  {
   "cell_type": "markdown",
   "metadata": {},
   "source": [
    "Анализируем полученные результаты"
   ]
  },
  {
   "cell_type": "code",
   "execution_count": 13,
   "metadata": {},
   "outputs": [
    {
     "name": "stdout",
     "output_type": "stream",
     "text": [
      "   estimators     rmspe\n",
      "0        1000  0.223112\n",
      "1        2000  0.144424\n",
      "2        3000  0.133576\n",
      "3        4000  0.129088\n",
      "4        5000  0.126066\n"
     ]
    }
   ],
   "source": [
    "print(errors_stat)"
   ]
  },
  {
   "cell_type": "markdown",
   "metadata": {},
   "source": [
    "Строим график зависимости rmspe(estimators)"
   ]
  },
  {
   "cell_type": "code",
   "execution_count": 14,
   "metadata": {},
   "outputs": [
    {
     "data": {
      "image/png": "[encoded data removed]",
      "text/plain": [
       "<Figure size 3600x1440 with 1 Axes>"
      ]
     },
     "metadata": {
      "needs_background": "light"
     },
     "output_type": "display_data"
    }
   ],
   "source": [
    "visualisation(errors_stat['estimators'], errors_stat['rmspe'], 'rmspe(estimators)')"
   ]
  },
  {
   "cell_type": "markdown",
   "metadata": {},
   "source": [
    "Из графика видно, что нам необходимо оставить значение estimator на уровне 3000, далее до 10000 не будет значительных изменений"
   ]
  },
  {
   "cell_type": "code",
   "execution_count": 17,
   "metadata": {},
   "outputs": [
    {
     "name": "stdout",
     "output_type": "stream",
     "text": [
      "rmspe: 0.13357576330580007\n"
     ]
    },
    {
     "data": {
      "text/plain": [
       "['./model/model.bin']"
      ]
     },
     "execution_count": 17,
     "metadata": {},
     "output_type": "execute_result"
    }
   ],
   "source": [
    "def get_model(x_train, y_train, x_test, y_test, fit_column, scalers):\n",
    "    gbm = xgboost.XGBRegressor(tree_method='gpu_hist', predictor='gpu_predictor', max_depth=10, n_estimators=3000, subsample=1, learning_rate=0.003, seed=700)\n",
    "    gbm.fit(x_train[fit_column].values, y_train.values)\n",
    "    # Оцениваем ошибку, для проверки, что нигде не накосячил\n",
    "    y_pred = gbm.predict(x_test[fit_column].values)\n",
    "    y1 = scalers[-1][1].inverse_transform([y_test.values])[0]\n",
    "    y2 = scalers[-1][1].inverse_transform(y_pred.reshape(1, -1))[0]\n",
    "    print(f'rmspe: {rmspe(y1, y2)}')\n",
    "    return gbm\n",
    "\n",
    "model = get_model(x_train, y_train, x_test, y_test, fit_column, scalers)\n",
    "joblib.dump(model, model_path)"
   ]
  },
  {
   "cell_type": "markdown",
   "metadata": {},
   "source": [
    "# Генерируем сабмишн\n",
    "Загружаем тестовый датасет, рассчитываем свои дополнительные признаки"
   ]
  },
  {
   "cell_type": "code",
   "execution_count": 23,
   "metadata": {},
   "outputs": [],
   "source": [
    "def generate_submission(df, model_path, fit_column, scalers, save_path):\n",
    "    # Добавляем пустой столбец 'Sales', чтобы использовать метод prepare_data\n",
    "    test_df['Sales'] = np.zeros(test_df.shape[0])\n",
    "    df = prepare_data(test_df, store_df)\n",
    "    x, y = get_train_and_test_datasets(df, scalers, scaler_columns, encoders, encoder_columns, split_train_test=False)\n",
    "    model = joblib.load(model_path)\n",
    "    y_pred = model.predict(x[fit_column].values)\n",
    "    y_pred_dec = scalers[-1][1].inverse_transform(y_pred.reshape(1, -1))[0]\n",
    "    # Полученная выборка не содержит дней, когда магазин не работал, необходимо заполнить эти дни нулями\n",
    "    result = pd.DataFrame()\n",
    "    index = 0\n",
    "    store = []\n",
    "    sales = []\n",
    "    for i in range(0, test_df.shape[0]):\n",
    "        if test_df.iloc[i]['Open'] == 1:\n",
    "            store.append(test_df.iloc[i]['Store'])\n",
    "            sales.append(int(y_pred_dec[index]))\n",
    "            index += 1\n",
    "        else:\n",
    "            store.append(test_df.iloc[i]['Store'])\n",
    "            sales.append(0)\n",
    "    result = pd.DataFrame({'Id': store, 'Sales': sales})\n",
    "    result.to_csv(save_path, index=False, sep=',')\n",
    "    \n",
    "test_df = pd.read_csv(test_path, sep=',', index_col=False)\n",
    "generate_submission(test_df, model_path, fit_column, scalers, save_path)"
   ]
  }
 ],
 "metadata": {
  "kernelspec": {
   "display_name": "Python 3",
   "language": "python",
   "name": "python3"
  },
  "language_info": {
   "codemirror_mode": {
    "name": "ipython",
    "version": 3
   },
   "file_extension": ".py",
   "mimetype": "text/x-python",
   "name": "python",
   "nbconvert_exporter": "python",
   "pygments_lexer": "ipython3",
   "version": "3.7.3"
  }
 },
 "nbformat": 4,
 "nbformat_minor": 2
}
