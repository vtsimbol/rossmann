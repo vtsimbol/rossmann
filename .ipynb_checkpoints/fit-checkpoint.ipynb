{
 "cells": [
  {
   "cell_type": "markdown",
   "metadata": {},
   "source": [
    "# Get train and validation datasets to local test\n",
    "Из-за ограничения в 2 загрузки в день решения на kaggle сначала гоняю алгоритмы на собственных тестах\n"
   ]
  },
  {
   "cell_type": "code",
   "execution_count": 10,
   "metadata": {},
   "outputs": [],
   "source": [
    "import pandas as pd\n",
    "import numpy as np\n",
    "import sklearn\n",
    "from sklearn import preprocessing\n",
    "from sklearn.preprocessing import Normalizer\n",
    "from sklearn.linear_model import SGDRegressor\n",
    "\n",
    "\n",
    "source_dataset_path = './train/train_dataset.csv'\n",
    "pre_train_path = './fit/pre_train.csv'\n",
    "pre_test_path = './fit/pre_test.csv'\n",
    "\n",
    "train_df = pd.read_csv(source_dataset_path, sep=',', index_col=False)"
   ]
  },
  {
   "cell_type": "markdown",
   "metadata": {},
   "source": [
    "Получаем выборки: тусуем, делим в соотношении 90/10 - данных слишком мало"
   ]
  },
  {
   "cell_type": "code",
   "execution_count": 11,
   "metadata": {},
   "outputs": [],
   "source": [
    "ratio = 0.9\n",
    "\n",
    "def get_pre_train_and_test_datasets(train_df):\n",
    "    # Нормализация числовых полей\n",
    "    train_df['StateHolidayDays'] = sklearn.preprocessing.normalize(train_df['StateHolidayDays'].values.reshape(-1, 1), axis=0)\n",
    "    train_df['SchoolHolidayDays'] = sklearn.preprocessing.normalize(train_df['SchoolHolidayDays'].values.reshape(-1, 1), axis=0)\n",
    "    train_df['Sales'] = sklearn.preprocessing.normalize(train_df['Sales'].values.reshape(-1, 1), axis=0)\n",
    "    train_df['PromoDays'] = sklearn.preprocessing.normalize(train_df['PromoDays'].values.reshape(-1, 1), axis=0)\n",
    "    train_df['Promo2DaysToNext'] = sklearn.preprocessing.normalize(train_df['Promo2DaysToNext'].values.reshape(-1, 1), axis=0)\n",
    "    train_df['Promo2AllDays'] = sklearn.preprocessing.normalize(train_df['Promo2AllDays'].values.reshape(-1, 1), axis=0)\n",
    "    train_df['Promo2Days'] = sklearn.preprocessing.normalize(train_df['Promo2Days'].values.reshape(-1, 1), axis=0)\n",
    "    train_df['MeanByDay'] = sklearn.preprocessing.normalize(train_df['MeanByDay'].values.reshape(-1, 1), axis=0)\n",
    "    train_df['Mean'] = sklearn.preprocessing.normalize(train_df['Mean'].values.reshape(-1, 1), axis=0)\n",
    "    train_df['DayOfWeek'] = sklearn.preprocessing.normalize(train_df['DayOfWeek'].values.reshape(-1, 1), axis=0)\n",
    "    train_df['DayOfMonth'] = sklearn.preprocessing.normalize(train_df['DayOfMonth'].values.reshape(-1, 1), axis=0)\n",
    "    train_df['Customers'] = sklearn.preprocessing.normalize(train_df['Customers'].values.reshape(-1, 1), axis=0)\n",
    "    train_df['CompetitionDistance'] = sklearn.preprocessing.normalize(train_df['CompetitionDistance'].values.reshape(-1, 1), axis=0)\n",
    "    train_df['CompetitionDays'] = sklearn.preprocessing.normalize(train_df['CompetitionDays'].values.reshape(-1, 1), axis=0)\n",
    "    # Работа с категориальными признаками\n",
    "    objects = train_df.select_dtypes(include=[object])\n",
    "    label_encoder = preprocessing.LabelEncoder()\n",
    "    transf = objects.apply(label_encoder.fit_transform)\n",
    "    enc = preprocessing.OneHotEncoder(categories='auto')\n",
    "    enc.fit(transf)\n",
    "    labels = enc.transform(transf).toarray()\n",
    "    # Заменяем/добавляем столбцы\n",
    "    del train_df['Assortment']\n",
    "    del train_df['StoreType']\n",
    "    del train_df['StateHoliday']\n",
    "    #train_df.drop(columns=['Assortment', 'StoreType', 'StateHoliday'], axis=1)\n",
    "    for i in range(0, labels.shape[1]):\n",
    "        train_df[f'x{i}'] = pd.Series(labels[:,i])\n",
    "    # Перемешиваем\n",
    "    indexes = np.arange(0, train_df.shape[0])\n",
    "    np.random.shuffle(indexes)\n",
    "    pos = int(train_df.shape[0] * ratio)\n",
    "    train_indexes = indexes[:pos]\n",
    "    test_indexes = indexes[pos:]\n",
    "    train = train_df.loc[train_indexes]\n",
    "    test = train_df.loc[test_indexes]\n",
    "    return train, test\n",
    "\n",
    "train, test = get_pre_train_and_test_datasets(train_df)\n",
    "train.to_csv(pre_train_path, sep=',', index=False)\n",
    "test.to_csv(pre_test_path, sep=',', index=False)"
   ]
  },
  {
   "cell_type": "markdown",
   "metadata": {},
   "source": [
    "# Metrics\n",
    "Реализация собственного RMSPE для локальных тестов"
   ]
  },
  {
   "cell_type": "code",
   "execution_count": 21,
   "metadata": {},
   "outputs": [],
   "source": [
    "def metrics(source, predict):\n",
    "    count = np.min([source.shape[0], predict.shape[0]])\n",
    "    mse = [(source[x] - predict[x]) ** 2 for x in range(0, count)]\n",
    "    mse = np.sum(mse) / count\n",
    "    return np.sqrt(mse)"
   ]
  },
  {
   "cell_type": "markdown",
   "metadata": {},
   "source": [
    "# Fit\n",
    "Обучаем линейную модель, должна дать прирост"
   ]
  },
  {
   "cell_type": "code",
   "execution_count": null,
   "metadata": {},
   "outputs": [],
   "source": [
    "def fit_linear_regression(train, test)"
   ]
  }
 ],
 "metadata": {
  "kernelspec": {
   "display_name": "Python 3",
   "language": "python",
   "name": "python3"
  },
  "language_info": {
   "codemirror_mode": {
    "name": "ipython",
    "version": 3
   },
   "file_extension": ".py",
   "mimetype": "text/x-python",
   "name": "python",
   "nbconvert_exporter": "python",
   "pygments_lexer": "ipython3",
   "version": "3.7.2"
  }
 },
 "nbformat": 4,
 "nbformat_minor": 2
}
