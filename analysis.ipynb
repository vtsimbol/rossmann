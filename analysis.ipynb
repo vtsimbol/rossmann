{
 "cells": [
  {
   "cell_type": "markdown",
   "metadata": {},
   "source": [
    "# Get train and validation datasets to analysis\n",
    "Собираю датасет для проверки различных гипотез и оценки вклада фич в результат\n"
   ]
  },
  {
   "cell_type": "code",
   "execution_count": 35,
   "metadata": {},
   "outputs": [],
   "source": [
    "import pandas as pd\n",
    "import numpy as np\n",
    "import sklearn\n",
    "from sklearn import preprocessing\n",
    "from sklearn.preprocessing import Normalizer\n",
    "from sklearn.linear_model import SGDRegressor\n",
    "from sklearn.cluster import KMeans\n",
    "from sklearn.model_selection import train_test_split\n",
    "import xgboost\n",
    "import matplotlib.pyplot as plt\n",
    "\n",
    "\n",
    "dataset_path = './train/train_dataset.csv'"
   ]
  },
  {
   "cell_type": "markdown",
   "metadata": {},
   "source": [
    "Получаем выборки: тусуем, делим в соотношении 90/10 - данных слишком мало"
   ]
  },
  {
   "cell_type": "code",
   "execution_count": 36,
   "metadata": {},
   "outputs": [],
   "source": [
    "def fit_linear_regression(x_train, y_train, x_test):\n",
    "    sgd = SGDRegressor(loss='huber', max_iter=1000)\n",
    "    sgd.fit(x_train, y_train)\n",
    "    return sgd, sgd.predict(x_train), sgd.predict(x_test)\n",
    "\n",
    "def get_train_and_test_datasets(df, ratio=0.9):\n",
    "    # Нормализация числовых полей\n",
    "    df['StateHolidayDays'] = sklearn.preprocessing.normalize(df['StateHolidayDays'].values.reshape(-1, 1), axis=0)\n",
    "    df['SchoolHolidayDays'] = sklearn.preprocessing.normalize(df['SchoolHolidayDays'].values.reshape(-1, 1), axis=0)\n",
    "    df['Sales'] = sklearn.preprocessing.normalize(df['Sales'].values.reshape(-1, 1), axis=0)\n",
    "    df['PromoDays'] = sklearn.preprocessing.normalize(df['PromoDays'].values.reshape(-1, 1), axis=0)\n",
    "    df['Promo2DaysToNext'] = sklearn.preprocessing.normalize(df['Promo2DaysToNext'].values.reshape(-1, 1), axis=0)\n",
    "    df['Promo2AllDays'] = sklearn.preprocessing.normalize(df['Promo2AllDays'].values.reshape(-1, 1), axis=0)\n",
    "    df['Promo2Days'] = sklearn.preprocessing.normalize(df['Promo2Days'].values.reshape(-1, 1), axis=0)\n",
    "    df['MeanByDay'] = sklearn.preprocessing.normalize(df['MeanByDay'].values.reshape(-1, 1), axis=0)\n",
    "    df['Mean'] = sklearn.preprocessing.normalize(df['Mean'].values.reshape(-1, 1), axis=0)\n",
    "    df['DayOfWeek'] = sklearn.preprocessing.normalize(df['DayOfWeek'].values.reshape(-1, 1), axis=0)\n",
    "    df['DayOfMonth'] = sklearn.preprocessing.normalize(df['DayOfMonth'].values.reshape(-1, 1), axis=0)\n",
    "    df['Customers'] = sklearn.preprocessing.normalize(df['Customers'].values.reshape(-1, 1), axis=0)\n",
    "    df['CompetitionDistance'] = sklearn.preprocessing.normalize(df['CompetitionDistance'].values.reshape(-1, 1), axis=0)\n",
    "    df['CompetitionDays'] = sklearn.preprocessing.normalize(df['CompetitionDays'].values.reshape(-1, 1), axis=0)\n",
    "    # Работа с категориальными признаками\n",
    "    objects = df.select_dtypes(include=[object])\n",
    "    label_encoder = preprocessing.LabelEncoder()\n",
    "    transf = objects.apply(label_encoder.fit_transform)\n",
    "    enc = preprocessing.OneHotEncoder(categories='auto')\n",
    "    enc.fit(transf)\n",
    "    labels = enc.transform(transf).toarray()\n",
    "    for i in range(0, labels.shape[1]):\n",
    "        df[f'x{i}'] = pd.Series(labels[:,i])\n",
    "    # Перемешиваем\n",
    "    columns = list(df.columns)\n",
    "    columns.remove('Sales')\n",
    "    columns.remove('Assortment')\n",
    "    columns.remove('StoreType')\n",
    "    columns.remove('StateHoliday')\n",
    "    x_train, x_test, y_train, y_test = train_test_split(df[columns], df['Sales'], test_size=1-ratio, random_state=123)\n",
    "    # Добавляем линейную регрессию\n",
    "    sgd, lr_train, lr_test = fit_linear_regression(x_train, y_train, x_test)\n",
    "    x_train['x10'] = pd.Series(lr_train)\n",
    "    x_test['x10'] = pd.Series(lr_test)\n",
    "    return x_train, x_test, y_train, y_test\n",
    "\n",
    "df = pd.read_csv(dataset_path, sep=',', index_col=False)\n",
    "x_train, x_test, y_train, y_test = get_train_and_test_datasets(df)"
   ]
  },
  {
   "cell_type": "markdown",
   "metadata": {},
   "source": [
    "# Metrics\n",
    "Реализация собственного RMSPE для локальных тестов"
   ]
  },
  {
   "cell_type": "code",
   "execution_count": 37,
   "metadata": {},
   "outputs": [],
   "source": [
    "def metrics(source, predict):\n",
    "    count = np.min([source.shape[0], predict.shape[0]])\n",
    "    mse = [(source[x] - predict[x]) ** 2 for x in range(0, count)]\n",
    "    mse = np.sum(mse) / count\n",
    "    return np.sqrt(mse)"
   ]
  },
  {
   "cell_type": "markdown",
   "metadata": {},
   "source": [
    "# Fit Engineering\n",
    "Выявляем значимые признаки"
   ]
  },
  {
   "cell_type": "code",
   "execution_count": 43,
   "metadata": {
    "scrolled": true
   },
   "outputs": [
    {
     "data": {
      "image/png": "[encoded data removed]",
      "text/plain": [
       "<Figure size 2160x360 with 1 Axes>"
      ]
     },
     "metadata": {
      "needs_background": "light"
     },
     "output_type": "display_data"
    }
   ],
   "source": [
    "def get_feature_analyze_gb_model(x_train, y_train):\n",
    "    gbm = xgboost.XGBRegressor(tree_method='gpu_hist', predictor='gpu_predictor', max_depth=2, n_estimators=300, subsample=1, learning_rate=0.05, seed=300)\n",
    "    gbm.fit(x_train, y_train)\n",
    "    imps = gbm.get_booster().get_fscore()\n",
    "    plt.figure(figsize=(30, 5))\n",
    "    plt.bar(imps.keys(), imps.values(), color='b')\n",
    "    plt.show()\n",
    "    \n",
    "get_feature_analyze_gb_model(x_train, y_train)"
   ]
  },
  {
   "cell_type": "markdown",
   "metadata": {},
   "source": [
    "Оставляем Customers, Mean, Promo, ShcoolHolidayDays, DaysOfWeek и MeanByDay"
   ]
  }
 ],
 "metadata": {
  "kernelspec": {
   "display_name": "Python 3",
   "language": "python",
   "name": "python3"
  },
  "language_info": {
   "codemirror_mode": {
    "name": "ipython",
    "version": 3
   },
   "file_extension": ".py",
   "mimetype": "text/x-python",
   "name": "python",
   "nbconvert_exporter": "python",
   "pygments_lexer": "ipython3",
   "version": "3.7.3"
  }
 },
 "nbformat": 4,
 "nbformat_minor": 2
}
